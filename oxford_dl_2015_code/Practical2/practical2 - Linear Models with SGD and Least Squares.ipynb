{
 "cells": [
  {
   "cell_type": "markdown",
   "metadata": {},
   "source": [
    "This demo implements online stochastic gradient descent for estimating the three parameters of\n",
    "a linear model.\n",
    "1. Familiarize yourself with every step of the code. For information on stochastic gradient\n",
    "descent, I recommend the following Wikipedia pages:\n",
    "http://en.wikipedia.org/wiki/Stochastic_gradient_descent\n",
    "http://en.wikipedia.org/wiki/Gradient_descent\n",
    "http://en.wikipedia.org/wiki/Gradient\n",
    "Reading the above pages will maximize the opportunity for you to learn about optimization\n",
    "on Thursday’s lecture. (This task is ommitted)\n",
    "\n",
    "2. Modify section 5 of the code (Test the trained model) to compute the predictions for\n",
    "the following test dataset of three observations and two input features (fertilizer and\n",
    "insecticide):\n",
    "dataTest = torch.Tensor{\n",
    "{6, 4},\n",
    "{10, 5},\n",
    "{14, 8}\n",
    "}\n",
    "What are the values of the three parameters? What happens to the parameters and\n",
    "predictions when the number of epochs is either 1e3 (1 × 10 3 ) or 1e5 (1 × 10 5 )? Hand in\n",
    "the answers to these questions.\n",
    "\n",
    "3. Implement the least squares solution\n",
    "θ = (X T X) −1 X T y\n",
    "using the same dataset. What are the predictions for the above test set? How do they\n",
    "compare to the predictions of the linear neuron trained with SGD? How do the parameters\n",
    "compare? Hand in your answers.\n",
    "\n",
    "#### Advanced: For enthusiastic students ####\n",
    "Implement the nonlinear regression demos with polynomials described in Lecture 3. That is,\n",
    "generate data with a second order polynomial and use polynomials of different orders to estimate\n",
    "the nonlinear regression function. Confirm what happens as you vary the number of data, and\n",
    "the regularization coefficient."
   ]
  },
  {
   "cell_type": "code",
   "execution_count": 183,
   "metadata": {
    "collapsed": false
   },
   "outputs": [],
   "source": [
    "import torch\n",
    "import torch.nn as nn\n",
    "import numpy as np\n",
    "import matplotlib.pyplot as plt\n",
    "from torch.autograd import Variable\n",
    "\n",
    "train_data = torch.Tensor([\n",
    "   [40,  6,  4],\n",
    "   [44, 10,  4],\n",
    "   [46, 12,  5],\n",
    "   [48, 14,  7],\n",
    "   [52, 16,  9],\n",
    "   [58, 18, 12],\n",
    "   [60, 22, 14],\n",
    "   [68, 24, 20],\n",
    "   [74, 26, 21],\n",
    "   [80, 32, 24]])\n",
    "test_data = torch.Tensor([\n",
    "    [6, 4],\n",
    "    [10, 5],\n",
    "    [4, 8]])"
   ]
  },
  {
   "cell_type": "markdown",
   "metadata": {},
   "source": [
    "#### Task 2"
   ]
  },
  {
   "cell_type": "code",
   "execution_count": 137,
   "metadata": {
    "collapsed": false,
    "scrolled": false
   },
   "outputs": [
    {
     "data": {
      "image/png": "[encoded data removed]",
      "text/plain": [
       "<matplotlib.figure.Figure at 0x7f085cc999e8>"
      ]
     },
     "metadata": {},
     "output_type": "display_data"
    },
    {
     "name": "stdout",
     "output_type": "stream",
     "text": [
      "Variable containing:\n",
      " 40.3159\n",
      " 44.0286\n",
      " 43.4505\n",
      "[torch.FloatTensor of size 3x1]\n",
      "\n",
      "1.3670417070388794\n",
      "learnt parameters:  [Parameter containing:\n",
      " 0.6509  1.1091\n",
      "[torch.FloatTensor of size 1x2]\n",
      ", Parameter containing:\n",
      " 31.9741\n",
      "[torch.FloatTensor of size 1]\n",
      "]\n"
     ]
    }
   ],
   "source": [
    "# Hyper Parameters\n",
    "input_size = 2\n",
    "output_size = 1\n",
    "num_epochs = 100000\n",
    "learning_rate = 0.001\n",
    "\n",
    "\n",
    "x_train = train_data[:,1:3]\n",
    "y_train = train_data[:,0]\n",
    "\n",
    "# Linear Regression Model\n",
    "class LinearRegression(nn.Module):\n",
    "    def __init__(self, input_size, output_size):\n",
    "        super(LinearRegression, self).__init__()\n",
    "        self.linear = nn.Linear(input_size, output_size)  \n",
    "    \n",
    "    def forward(self, x):\n",
    "        out = self.linear(x)\n",
    "        return out\n",
    "\n",
    "model = LinearRegression(input_size, output_size)\n",
    "\n",
    "# Loss and Optimizer\n",
    "criterion = nn.MSELoss()\n",
    "optimizer = torch.optim.SGD(model.parameters(), lr=learning_rate)  \n",
    "\n",
    "# Train the Model \n",
    "losses1 = []\n",
    "for epoch in range(num_epochs):\n",
    "    # Convert numpy array to torch Variable\n",
    "    inputs = Variable(x_train)\n",
    "    targets = Variable(y_train)\n",
    "\n",
    "    # Forward + Backward + Optimize\n",
    "    optimizer.zero_grad()  \n",
    "    outputs = model(inputs)\n",
    "    loss = criterion(outputs, targets)\n",
    "    loss.backward()\n",
    "    losses1.append(loss.data[0])\n",
    "    optimizer.step()\n",
    "    \n",
    "#     if (epoch+1) % 5 == 0:\n",
    "#         print ('Epoch [%d/%d], Loss: %.4f' \n",
    "#                %(epoch+1, num_epochs, loss.data[0]))\n",
    "        \n",
    "# Plot the graph\n",
    "predicted = model(inputs).data.numpy()\n",
    "plt.plot(x_train.numpy()[0:,0], y_train.numpy(), 'ro', label='Original data')\n",
    "plt.plot(x_train.numpy()[0:,0], predicted, label='Fitted line')\n",
    "plt.legend()\n",
    "plt.show()\n",
    "\n",
    "# using test data to make prediction\n",
    "predicted_test = model(Variable(test_data))\n",
    "print(predicted_test)\n",
    "print(loss.data[0])\n",
    "print(\"learnt parameters: \", list(model.parameters()))\n",
    "# Save the Model\n",
    "# torch.save(model, 'model.pkl')\n"
   ]
  },
  {
   "cell_type": "code",
   "execution_count": 138,
   "metadata": {
    "collapsed": false,
    "scrolled": true
   },
   "outputs": [
    {
     "data": {
      "image/png": "[encoded data removed]",
      "text/plain": [
       "<matplotlib.figure.Figure at 0x7f085cd6ecf8>"
      ]
     },
     "metadata": {},
     "output_type": "display_data"
    }
   ],
   "source": [
    "plt.plot(losses1)\n",
    "plt.show()"
   ]
  },
  {
   "cell_type": "markdown",
   "metadata": {
    "collapsed": true
   },
   "source": [
    "- with the number of epochs 1000: the Loss = 53.7466, \n",
    "    predictions = [21.8778, 36.4507, 5.1435]\n",
    "    weights:\n",
    "        coefficients/weights = 4.2680, -2.1907\n",
    "        intercept = 4.5083\n",
    "\n",
    "    \n",
    "- with the number of epochs 10000: the Loss = 5.4\n",
    "    predictions = [35.1809, 41.9191, 32.7792]\n",
    "    weights:\n",
    "        coefficients/weights =  1.6308  0.2150\n",
    "        intercept =  24.5361\n",
    "\n",
    "- with the number of epochs 100000: the Loss = 1.3670\n",
    "    predictions = [40.3159, 44.0286, 43.4505]\n",
    "    weights:\n",
    "        coefficients/weights =  0.6509  1.1091\n",
    "        intercept =  31.9741\n",
    "        \n",
    "#### Conclusion: the MSE improves considerably with increased number of epochs"
   ]
  },
  {
   "cell_type": "markdown",
   "metadata": {},
   "source": [
    "#### Task 2 - Different code"
   ]
  },
  {
   "cell_type": "code",
   "execution_count": 432,
   "metadata": {
    "collapsed": false,
    "scrolled": true
   },
   "outputs": [
    {
     "name": "stdout",
     "output_type": "stream",
     "text": [
      "n_iter 99999\n",
      "1.3670417070388794\n"
     ]
    },
    {
     "data": {
      "image/png": "[encoded data removed]",
      "text/plain": [
       "<matplotlib.figure.Figure at 0x7f08576e28d0>"
      ]
     },
     "metadata": {},
     "output_type": "display_data"
    }
   ],
   "source": [
    "# another Linear model option for the same problem as above (from forum)\n",
    "x = Variable(train_data[:,1:3])\n",
    "y = Variable(train_data[:,0])\n",
    "\n",
    "\n",
    "def poly_desc(W, b):\n",
    "    \"\"\"Creates a string description of a polynomial.\"\"\"\n",
    "    result = 'y = '\n",
    "    for i, w in enumerate(W):\n",
    "        result += '{:+.2f} x^{} '.format(w, len(W) - i)\n",
    "    result += '{:+.2f}'.format(b[0])\n",
    "    return result\n",
    "\n",
    "\n",
    "\n",
    "\n",
    "class Model(torch.nn.Module):\n",
    "\n",
    "    def __init__(self):\n",
    "        super(Model, self).__init__()\n",
    "        self.fc = torch.nn.Linear(2, 1)\n",
    "                \n",
    "    def forward(self, x):\n",
    "        return self.fc(x)\n",
    "            \n",
    "model = Model()    \n",
    "criterion = torch.nn.MSELoss()\n",
    "optimizer = torch.optim.SGD(model.parameters(), lr=0.001)\n",
    "\n",
    "losses = [] # Added\n",
    "\n",
    "for i in range(100000):\n",
    "    optimizer.zero_grad()\n",
    "    outputs = model(x)\n",
    "    \n",
    "    loss = criterion(outputs, y)\n",
    "\n",
    "    losses.append(loss.data[0]) # Added\n",
    "    loss.backward()    \n",
    "    \n",
    "    optimizer.step()\n",
    "    \n",
    "    if loss.data[0] < 1e-4:\n",
    "        break    \n",
    "    \n",
    "print('n_iter', i)\n",
    "print(loss.data[0])\n",
    "plt.plot(losses)\n",
    "plt.show()\n"
   ]
  },
  {
   "cell_type": "code",
   "execution_count": 555,
   "metadata": {
    "collapsed": false
   },
   "outputs": [
    {
     "data": {
      "text/plain": [
       "1.3670396744666391"
      ]
     },
     "execution_count": 555,
     "metadata": {},
     "output_type": "execute_result"
    }
   ],
   "source": [
    "# Linear Regression with sklearn\n",
    "import numpy as np\n",
    "from sklearn import linear_model\n",
    "\n",
    "X1 = train_data[:,1:3].numpy()\n",
    "y1 = train_data[:,0].numpy()\n",
    "\n",
    "reg = LinearRegression()\n",
    "reg.fit(X1, y1)\n",
    "reg.score(X1,y1)\n",
    "np.mean((reg.predict(X1) - y1) ** 2)\n"
   ]
  },
  {
   "cell_type": "markdown",
   "metadata": {},
   "source": [
    "### Advanced: Create a model with polynomial features"
   ]
  },
  {
   "cell_type": "code",
   "execution_count": 588,
   "metadata": {
    "collapsed": false,
    "scrolled": false
   },
   "outputs": [
    {
     "name": "stdout",
     "output_type": "stream",
     "text": [
      "[393494300459008.0, inf, inf, inf, nan, nan, nan, nan, nan, nan]\n",
      "n_iter 9\n",
      "nan\n"
     ]
    },
    {
     "data": {
      "image/png": "[encoded data removed]",
      "text/plain": [
       "<matplotlib.figure.Figure at 0x7f084cf30b38>"
      ]
     },
     "metadata": {},
     "output_type": "display_data"
    }
   ],
   "source": [
    "# code for polynomial Linear Regression - doesn't work yet\n",
    "import sklearn.linear_model as lm\n",
    "from sklearn.preprocessing import PolynomialFeatures\n",
    "import torch\n",
    "import torch.autograd\n",
    "import torch.nn.functional as F\n",
    "from torch.autograd import Variable\n",
    "\n",
    "\n",
    "train_data = torch.Tensor([\n",
    "   [40,  6,  4],\n",
    "   [44, 10,  4],\n",
    "   [46, 12,  5],\n",
    "   [48, 14,  7],\n",
    "   [52, 16,  9],\n",
    "   [58, 18, 12],\n",
    "   [60, 22, 14],\n",
    "   [68, 24, 20],\n",
    "   [74, 26, 21],\n",
    "   [80, 32, 24]])\n",
    "test_data = torch.Tensor([\n",
    "    [6, 4],\n",
    "    [10, 5],\n",
    "    [4, 8]])\n",
    "\n",
    "x_train = train_data[:,1:3]\n",
    "y_train = train_data[:,0]\n",
    "\n",
    "POLY_DEGREE = 3\n",
    "input_size = 2\n",
    "output_size = 1\n",
    "\n",
    "poly = PolynomialFeatures(input_size * POLY_DEGREE, include_bias=False)\n",
    "x_train_poly = poly.fit_transform(x_train.numpy())\n",
    "\n",
    "\n",
    "class Model(torch.nn.Module):\n",
    "\n",
    "    def __init__(self):\n",
    "        super(Model, self).__init__()\n",
    "        self.fc = torch.nn.Linear(poly.n_output_features_, output_size)\n",
    "                \n",
    "    def forward(self, x):\n",
    "        return self.fc(x)\n",
    "            \n",
    "model = Model()    \n",
    "criterion = torch.nn.MSELoss()\n",
    "optimizer = torch.optim.SGD(model.parameters(), lr=0.001)\n",
    "\n",
    "losses = [] # Added\n",
    "\n",
    "for i in range(10):\n",
    "    optimizer.zero_grad() # step 1 - zero out the gradients\n",
    "    outputs = model(Variable(torch.Tensor(x_train_poly))) # step 2 \n",
    "    # feed the input to the model and calculate results\n",
    "\n",
    "    loss = criterion(outputs, Variable(y_train)) # step 3 - calculate loss\n",
    "#   difference between real label and resluts of the model\n",
    "    losses.append(loss.data[0])\n",
    "    loss.backward()  # step 4 propagate loss backwards, estimate error?  \n",
    "    optimizer.step() # step 5 optimize with SGD and repeat till done\n",
    "    if loss.data[0] < 1e-4:\n",
    "        break    \n",
    "print(losses)\n",
    "print('n_iter', i)\n",
    "print(loss.data[0])\n",
    "plt.plot(losses)\n",
    "plt.show()"
   ]
  },
  {
   "cell_type": "code",
   "execution_count": 581,
   "metadata": {
    "collapsed": false,
    "scrolled": true
   },
   "outputs": [
    {
     "data": {
      "text/plain": [
       "Variable containing:\n",
       "nan\n",
       "nan\n",
       "nan\n",
       "[torch.FloatTensor of size 3x1]"
      ]
     },
     "execution_count": 581,
     "metadata": {},
     "output_type": "execute_result"
    }
   ],
   "source": [
    "# Prediction of new value with test_data\n",
    "model(Variable(torch.Tensor(poly.fit_transform(test_data.numpy()))))"
   ]
  },
  {
   "cell_type": "code",
   "execution_count": 547,
   "metadata": {
    "collapsed": false
   },
   "outputs": [
    {
     "data": {
      "text/plain": [
       "array([ 40.32044911,  44.03051972,  43.45981896])"
      ]
     },
     "execution_count": 547,
     "metadata": {},
     "output_type": "execute_result"
    }
   ],
   "source": [
    "# working version but with sklearn, not Pytorch\n",
    "import sklearn.linear_model as lm\n",
    "from sklearn.preprocessing import PolynomialFeatures\n",
    "regr = lm.LinearRegression()\n",
    "poly = PolynomialFeatures(4, include_bias=False)\n",
    "X_poly = poly.fit_transform(x_train.numpy())\n",
    "\n",
    "regr.fit(x_train.numpy(), y_train.numpy())\n",
    "pred = regr.predict(test_data.numpy())\n",
    "pred"
   ]
  },
  {
   "cell_type": "code",
   "execution_count": 256,
   "metadata": {
    "collapsed": false
   },
   "outputs": [
    {
     "name": "stdout",
     "output_type": "stream",
     "text": [
      "Loss: 0.000325 after 504 batches\n",
      "==> Learned function:\ty = -2.13 x^4 +2.85 x^3 +4.06 x^2 -1.09 x^1 -4.78\n",
      "==> Actual function:\ty = -2.13 x^4 +2.76 x^3 +4.08 x^2 -1.05 x^1 -4.77\n"
     ]
    }
   ],
   "source": [
    "# original code for polynomial Linear Regression - for reference purposes only\n",
    "from __future__ import print_function\n",
    "from itertools import count\n",
    "\n",
    "import torch\n",
    "import torch.autograd\n",
    "import torch.nn.functional as F\n",
    "from torch.autograd import Variable\n",
    "\n",
    "POLY_DEGREE = 4\n",
    "W_target = torch.randn(POLY_DEGREE, 1) * 5\n",
    "b_target = torch.randn(1) * 5\n",
    "\n",
    "\n",
    "def make_features(x):\n",
    "    \"\"\"Builds features i.e. a matrix with columns [x, x^2, x^3, x^4].\"\"\"\n",
    "    x = x.unsqueeze(1)\n",
    "    return torch.cat([x ** i for i in range(1, POLY_DEGREE+1)], 1)\n",
    "\n",
    "\n",
    "def f(x):\n",
    "    \"\"\"Approximated function.\"\"\"\n",
    "    return x.mm(W_target) + b_target[0]\n",
    "\n",
    "\n",
    "def poly_desc(W, b):\n",
    "    \"\"\"Creates a string description of a polynomial.\"\"\"\n",
    "    result = 'y = '\n",
    "    for i, w in enumerate(W):\n",
    "        result += '{:+.2f} x^{} '.format(w, len(W) - i)\n",
    "    result += '{:+.2f}'.format(b[0])\n",
    "    return result\n",
    "\n",
    "\n",
    "def get_batch(batch_size=32):\n",
    "    \"\"\"Builds a batch i.e. (x, f(x)) pair.\"\"\"\n",
    "    random = torch.randn(batch_size)\n",
    "    x = make_features(random)\n",
    "    y = f(x)\n",
    "    return Variable(x), Variable(y)\n",
    "\n",
    "\n",
    "# Define model\n",
    "fc = torch.nn.Linear(W_target.size(0), 1)\n",
    "\n",
    "for batch_idx in count(1):\n",
    "    # Get data\n",
    "    batch_x, batch_y = get_batch()\n",
    "\n",
    "    # Reset gradients\n",
    "    fc.zero_grad()\n",
    "\n",
    "    # Forward pass\n",
    "    output = F.smooth_l1_loss(fc(batch_x), batch_y)\n",
    "    loss = output.data[0]\n",
    "\n",
    "    # Backward pass\n",
    "    output.backward()\n",
    "\n",
    "    # Apply gradients\n",
    "    for param in fc.parameters():\n",
    "        param.data.add_(-0.1 * param.grad.data)\n",
    "\n",
    "    # Stop criterion\n",
    "    if loss < 1e-3:\n",
    "        break\n",
    "\n",
    "print('Loss: {:.6f} after {} batches'.format(loss, batch_idx))\n",
    "print('==> Learned function:\\t' + poly_desc(fc.weight.data.view(-1), fc.bias.data))\n",
    "print('==> Actual function:\\t' + poly_desc(W_target.view(-1), b_target))"
   ]
  }
 ],
 "metadata": {
  "kernelspec": {
   "display_name": "Python 3",
   "language": "python",
   "name": "python3"
  },
  "language_info": {
   "codemirror_mode": {
    "name": "ipython",
    "version": 3
   },
   "file_extension": ".py",
   "mimetype": "text/x-python",
   "name": "python",
   "nbconvert_exporter": "python",
   "pygments_lexer": "ipython3",
   "version": "3.5.2"
  }
 },
 "nbformat": 4,
 "nbformat_minor": 2
}
